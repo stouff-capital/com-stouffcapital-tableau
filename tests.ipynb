{
 "cells": [
  {
   "cell_type": "code",
   "execution_count": null,
   "metadata": {},
   "outputs": [],
   "source": [
    "import numpy as np\n",
    "import pandas as pd\n",
    "\n",
    "import json\n",
    "\n",
    "import requests\n",
    "from requests.auth import HTTPBasicAuth\n",
    "\n",
    "import datetime\n",
    "\n",
    "%load_ext dotenv\n",
    "#%reload_ext dotenv\n",
    "\n",
    "# Use find_dotenv to locate the file\n",
    "%dotenv\n",
    "import os"
   ]
  },
  {
   "cell_type": "code",
   "execution_count": null,
   "metadata": {},
   "outputs": [],
   "source": [
    "# push tableau route\n",
    "df_company_surp_aggr = pd.read_csv('companies_surp_aggr_values.csv', sep=';')\n",
    "\n",
    "res = requests.post(\n",
    "    f'http://localhost:5000/tableau/data/surp/upload', \n",
    "    json={ 'data': df_company_surp_aggr.to_dict(orient='records') }, \n",
    "    auth=HTTPBasicAuth(os.getenv('BASIC_AUTH_USERNAME'), os.getenv('BASIC_AUTH_PASSWORD')))\n",
    "json.loads(res.content)"
   ]
  },
  {
   "cell_type": "code",
   "execution_count": null,
   "metadata": {},
   "outputs": [],
   "source": [
    "# push tableau route\n",
    "df = pd.read_csv('companies_surp_grid.csv', sep=';')\n",
    "\n",
    "res = requests.post(\n",
    "    f'http://localhost:5000/tableau/data/earningshistory/upload', \n",
    "    json={ 'data': df.to_dict(orient='records') }, \n",
    "    auth=HTTPBasicAuth(os.getenv('BASIC_AUTH_USERNAME'), os.getenv('BASIC_AUTH_PASSWORD')))\n",
    "json.loads(res.content)"
   ]
  },
  {
   "cell_type": "code",
   "execution_count": null,
   "metadata": {},
   "outputs": [],
   "source": [
    "# push tableau route\n",
    "df = pd.read_csv('vix_futures_ts.csv', sep=';')\n",
    "\n",
    "res = requests.post(\n",
    "    f'http://localhost:5000/tableau/data/cboefuturesvix/upload', \n",
    "    json={ 'data': df.to_dict(orient='records') }, \n",
    "    auth=HTTPBasicAuth(os.getenv('BASIC_AUTH_USERNAME'), os.getenv('BASIC_AUTH_PASSWORD')))\n",
    "json.loads(res.content)"
   ]
  },
  {
   "cell_type": "code",
   "execution_count": null,
   "metadata": {},
   "outputs": [],
   "source": [
    "# push tableau route\n",
    "df = pd.read_csv('pnl_timeseries_201902_min.csv', sep=';')\n",
    "\n",
    "res = requests.post(\n",
    "    f'http://localhost:5000/tableau/data/ibpnl/upload', \n",
    "    json={ 'data': df.to_dict(orient='records') }, \n",
    "    auth=HTTPBasicAuth(os.getenv('BASIC_AUTH_USERNAME'), os.getenv('BASIC_AUTH_PASSWORD')))\n",
    "json.loads(res.content)"
   ]
  },
  {
   "cell_type": "code",
   "execution_count": null,
   "metadata": {},
   "outputs": [],
   "source": [
    "# push tableau route\n",
    "df = pd.read_csv('positions_timeseries_201902_min.csv', sep=';')\n",
    "\n",
    "res = requests.post(\n",
    "    f'http://localhost:5000/tableau/data/ibposition/upload', \n",
    "    json={ 'data': df.to_dict(orient='records') }, \n",
    "    auth=HTTPBasicAuth(os.getenv('BASIC_AUTH_USERNAME'), os.getenv('BASIC_AUTH_PASSWORD')))\n",
    "json.loads(res.content)"
   ]
  },
  {
   "cell_type": "code",
   "execution_count": null,
   "metadata": {},
   "outputs": [],
   "source": [
    "df = pd.read_json('app/static/data/ib_position.json')\n",
    "\n",
    "df[ df['reportDate'] == df['reportDate'].max() ]"
   ]
  },
  {
   "cell_type": "code",
   "execution_count": null,
   "metadata": {},
   "outputs": [],
   "source": [
    "# push tableau route\n",
    "df = pd.read_csv('EquitySummaryInBase.csv', sep=';')\n",
    "\n",
    "res = requests.post(\n",
    "    f'http://localhost:5000/tableau/data/ibnav/upload', \n",
    "    json={ 'data': df.to_dict(orient='records') }, \n",
    "    auth=HTTPBasicAuth(os.getenv('BASIC_AUTH_USERNAME'), os.getenv('BASIC_AUTH_PASSWORD')))\n",
    "json.loads(res.content)"
   ]
  },
  {
   "cell_type": "raw",
   "metadata": {},
   "source": [
    "# push tableau route\n",
    "df = pd.read_json('centrale_histo.json', orient='records')\n",
    "#df = df[0:5]\n",
    "\n",
    "res = requests.post(\n",
    "    f'http://localhost:5000/tableau/data/centrale/histo/upload', \n",
    "    json={ 'data': df.to_dict(orient='records') }, \n",
    "    auth=HTTPBasicAuth(os.getenv('BASIC_AUTH_USERNAME'), os.getenv('BASIC_AUTH_PASSWORD')),\n",
    "    timeout=120\n",
    ")\n",
    "json.loads(res.content)"
   ]
  },
  {
   "cell_type": "code",
   "execution_count": null,
   "metadata": {},
   "outputs": [],
   "source": [
    "res = requests.post(\n",
    "    f'http://localhost:5000/tableau/data/centrale/histo/upload', \n",
    "    json={ 'data': df.to_dict(orient='records') }, \n",
    "    auth=HTTPBasicAuth(os.getenv('BASIC_AUTH_USERNAME'), os.getenv('BASIC_AUTH_PASSWORD')),\n",
    "    timeout=120,\n",
    "    files = {'file': open('centrale_histo.zip','rb')}\n",
    ")\n",
    "json.loads(res.content)"
   ]
  },
  {
   "cell_type": "code",
   "execution_count": null,
   "metadata": {},
   "outputs": [],
   "source": []
  }
 ],
 "metadata": {
  "kernelspec": {
   "display_name": "Python 3",
   "language": "python",
   "name": "python3"
  },
  "language_info": {
   "codemirror_mode": {
    "name": "ipython",
    "version": 3
   },
   "file_extension": ".py",
   "mimetype": "text/x-python",
   "name": "python",
   "nbconvert_exporter": "python",
   "pygments_lexer": "ipython3",
   "version": "3.7.0"
  }
 },
 "nbformat": 4,
 "nbformat_minor": 2
}
