{
 "cells": [
  {
   "cell_type": "code",
   "execution_count": 1,
   "metadata": {},
   "outputs": [],
   "source": [
    "import numpy as np\n",
    "import pandas as pd\n",
    "\n",
    "import json\n",
    "\n",
    "import requests\n",
    "from requests.auth import HTTPBasicAuth\n",
    "\n",
    "import datetime\n",
    "\n",
    "%load_ext dotenv\n",
    "#%reload_ext dotenv\n",
    "\n",
    "# Use find_dotenv to locate the file\n",
    "%dotenv\n",
    "import os"
   ]
  },
  {
   "cell_type": "code",
   "execution_count": null,
   "metadata": {},
   "outputs": [],
   "source": [
    "# push tableau route\n",
    "df_company_surp_aggr = pd.read_csv('companies_surp_aggr_values.csv', sep=';')\n",
    "\n",
    "res = requests.post(\n",
    "    f'http://localhost:5000/tableau/data/surp/upload', \n",
    "    json={ 'data': df_company_surp_aggr.to_dict(orient='records') }, \n",
    "    auth=HTTPBasicAuth(os.getenv('BASIC_AUTH_USERNAME'), os.getenv('BASIC_AUTH_PASSWORD')))\n",
    "json.loads(res.content)"
   ]
  },
  {
   "cell_type": "code",
   "execution_count": null,
   "metadata": {},
   "outputs": [],
   "source": [
    "# push tableau route\n",
    "df = pd.read_csv('companies_surp_grid.csv', sep=';')\n",
    "\n",
    "res = requests.post(\n",
    "    f'http://localhost:5000/tableau/data/earningshistory/upload', \n",
    "    json={ 'data': df.to_dict(orient='records') }, \n",
    "    auth=HTTPBasicAuth(os.getenv('BASIC_AUTH_USERNAME'), os.getenv('BASIC_AUTH_PASSWORD')))\n",
    "json.loads(res.content)"
   ]
  },
  {
   "cell_type": "code",
   "execution_count": null,
   "metadata": {},
   "outputs": [],
   "source": [
    "# push tableau route\n",
    "df = pd.read_csv('vix_futures_ts.csv', sep=';')\n",
    "\n",
    "res = requests.post(\n",
    "    f'http://localhost:5000/tableau/data/cboefuturesvix/upload', \n",
    "    json={ 'data': df.to_dict(orient='records') }, \n",
    "    auth=HTTPBasicAuth(os.getenv('BASIC_AUTH_USERNAME'), os.getenv('BASIC_AUTH_PASSWORD')))\n",
    "json.loads(res.content)"
   ]
  },
  {
   "cell_type": "code",
   "execution_count": null,
   "metadata": {},
   "outputs": [],
   "source": [
    "# push tableau route\n",
    "df = pd.read_csv('pnl_timeseries_201902_min.csv', sep=';')\n",
    "\n",
    "res = requests.post(\n",
    "    f'http://localhost:5000/tableau/data/ibpnl/upload', \n",
    "    json={ 'data': df.to_dict(orient='records') }, \n",
    "    auth=HTTPBasicAuth(os.getenv('BASIC_AUTH_USERNAME'), os.getenv('BASIC_AUTH_PASSWORD')))\n",
    "json.loads(res.content)"
   ]
  },
  {
   "cell_type": "code",
   "execution_count": null,
   "metadata": {},
   "outputs": [],
   "source": [
    "# push tableau route\n",
    "df = pd.read_csv('positions_timeseries_201902_min.csv', sep=';')\n",
    "\n",
    "res = requests.post(\n",
    "    f'http://localhost:5000/tableau/data/ibposition/upload', \n",
    "    json={ 'data': df.to_dict(orient='records') }, \n",
    "    auth=HTTPBasicAuth(os.getenv('BASIC_AUTH_USERNAME'), os.getenv('BASIC_AUTH_PASSWORD')))\n",
    "json.loads(res.content)"
   ]
  },
  {
   "cell_type": "code",
   "execution_count": null,
   "metadata": {},
   "outputs": [],
   "source": [
    "df = pd.read_json('app/static/data/ib_position.json')\n",
    "\n",
    "df[ df['reportDate'] == df['reportDate'].max() ]"
   ]
  },
  {
   "cell_type": "code",
   "execution_count": null,
   "metadata": {},
   "outputs": [],
   "source": [
    "# push tableau route\n",
    "df = pd.read_csv('EquitySummaryInBase.csv', sep=';')\n",
    "\n",
    "res = requests.post(\n",
    "    f'http://localhost:5000/tableau/data/ibnav/upload', \n",
    "    json={ 'data': df.to_dict(orient='records') }, \n",
    "    auth=HTTPBasicAuth(os.getenv('BASIC_AUTH_USERNAME'), os.getenv('BASIC_AUTH_PASSWORD')))\n",
    "json.loads(res.content)"
   ]
  },
  {
   "cell_type": "raw",
   "metadata": {},
   "source": [
    "# push tableau route\n",
    "df = pd.read_json('centrale_histo.json', orient='records')\n",
    "#df = df[0:5]\n",
    "\n",
    "res = requests.post(\n",
    "    f'http://localhost:5000/tableau/data/centrale/histo/upload', \n",
    "    json={ 'data': df.to_dict(orient='records') }, \n",
    "    auth=HTTPBasicAuth(os.getenv('BASIC_AUTH_USERNAME'), os.getenv('BASIC_AUTH_PASSWORD')),\n",
    "    timeout=120\n",
    ")\n",
    "json.loads(res.content)"
   ]
  },
  {
   "cell_type": "code",
   "execution_count": null,
   "metadata": {},
   "outputs": [],
   "source": [
    "res = requests.post(\n",
    "    f'http://localhost:5000/tableau/data/centrale/histo/upload', \n",
    "    json={ 'data': df.to_dict(orient='records') }, \n",
    "    auth=HTTPBasicAuth(os.getenv('BASIC_AUTH_USERNAME'), os.getenv('BASIC_AUTH_PASSWORD')),\n",
    "    timeout=120,\n",
    "    files = {'file': open('centrale_histo.zip','rb')}\n",
    ")\n",
    "json.loads(res.content)"
   ]
  },
  {
   "cell_type": "code",
   "execution_count": null,
   "metadata": {},
   "outputs": [],
   "source": [
    "df = pd.read_csv('Trades.csv', sep=';')\n",
    "\n",
    "res = requests.post(\n",
    "    f'http://localhost:5000/tableau/data/ibexecution/upload', \n",
    "    json={ 'data': df.to_dict(orient='records') }, \n",
    "    auth=HTTPBasicAuth(os.getenv('BASIC_AUTH_USERNAME'), os.getenv('BASIC_AUTH_PASSWORD'))\n",
    ")\n",
    "json.loads(res.content)"
   ]
  },
  {
   "cell_type": "code",
   "execution_count": null,
   "metadata": {},
   "outputs": [],
   "source": [
    "df = pd.read_csv('analyst_actions_all.csv', sep=';')\n",
    "df.rename(columns={'timestamp': 'date_rco'}, inplace=True)\n",
    "\n",
    "res = requests.post(\n",
    "    f'http://localhost:5000/tableau/data/bbgemailrco/upload', \n",
    "    json={ 'data': df.to_dict(orient='records') }, \n",
    "    auth=HTTPBasicAuth(os.getenv('BASIC_AUTH_USERNAME'), os.getenv('BASIC_AUTH_PASSWORD'))\n",
    ")\n",
    "json.loads(res.content)"
   ]
  },
  {
   "cell_type": "code",
   "execution_count": null,
   "metadata": {},
   "outputs": [],
   "source": [
    "df = pd.read_csv('price_move_analyst_new.csv', sep=';')\n",
    "df.rename(columns={'timestamp': 'date_rco'}, inplace=True)\n",
    "\n",
    "res = requests.post(\n",
    "    f'http://localhost:5000/tableau/data/bbgemailrcodigest/upload', \n",
    "    json={ 'data': df.to_dict(orient='records') }, \n",
    "    auth=HTTPBasicAuth(os.getenv('BASIC_AUTH_USERNAME'), os.getenv('BASIC_AUTH_PASSWORD'))\n",
    ")\n",
    "json.loads(res.content)"
   ]
  },
  {
   "cell_type": "code",
   "execution_count": null,
   "metadata": {},
   "outputs": [],
   "source": [
    "df = pd.read_csv('Trades_CASH.csv', sep=';')\n",
    "\n",
    "res = requests.post(\n",
    "    f'http://localhost:5000/tableau/data/ibexecutionfx/upload', \n",
    "    json={ 'data': df.to_dict(orient='records') }, \n",
    "    auth=HTTPBasicAuth(os.getenv('BASIC_AUTH_USERNAME'), os.getenv('BASIC_AUTH_PASSWORD'))\n",
    ")\n",
    "json.loads(res.content)"
   ]
  },
  {
   "cell_type": "code",
   "execution_count": null,
   "metadata": {},
   "outputs": [],
   "source": [
    "df = pd.read_csv('nav_sinceInception.csv', sep=';')\n",
    "\n",
    "res = requests.post(\n",
    "    f'http://localhost:5000/tableau/data/ibnavsinceinception/upload', \n",
    "    json={ 'data': df.to_dict(orient='records') }, \n",
    "    auth=HTTPBasicAuth(os.getenv('BASIC_AUTH_USERNAME'), os.getenv('BASIC_AUTH_PASSWORD'))\n",
    ")\n",
    "json.loads(res.content)"
   ]
  },
  {
   "cell_type": "code",
   "execution_count": null,
   "metadata": {},
   "outputs": [],
   "source": [
    "df = pd.read_csv('pnl_sinceInception.csv', sep=';')\n",
    "\n",
    "res = requests.post(\n",
    "    f'http://localhost:5000/tableau/data/ibpnlsinceinception/upload', \n",
    "    json={ 'data': df.to_dict(orient='records') }, \n",
    "    auth=HTTPBasicAuth(os.getenv('BASIC_AUTH_USERNAME'), os.getenv('BASIC_AUTH_PASSWORD'))\n",
    ")\n",
    "json.loads(res.content)"
   ]
  },
  {
   "cell_type": "code",
   "execution_count": null,
   "metadata": {},
   "outputs": [],
   "source": [
    "res = requests.get(\n",
    "    f'http://localhost:5000/tableau/data/matrix/sectors', \n",
    "#    json={ 'data': df.to_dict(orient='records') }, \n",
    "#    auth=HTTPBasicAuth(os.getenv('BASIC_AUTH_USERNAME'), os.getenv('BASIC_AUTH_PASSWORD'))\n",
    ")\n",
    "\n",
    "json.loads(res.content)"
   ]
  },
  {
   "cell_type": "code",
   "execution_count": 5,
   "metadata": {},
   "outputs": [],
   "source": [
    "def frDate_usDate(frDate):\n",
    "    return f'{frDate[-4:]}-{frDate[3:5]}-{frDate[:2]}'"
   ]
  },
  {
   "cell_type": "code",
   "execution_count": 16,
   "metadata": {},
   "outputs": [
    {
     "data": {
      "text/plain": [
       "{'data': 2704,\n",
       " 'status': 'ok',\n",
       " 'submittedDatetime': '2019-06-11T17:05:52.474419'}"
      ]
     },
     "execution_count": 16,
     "metadata": {},
     "output_type": "execute_result"
    }
   ],
   "source": [
    "df = pd.read_csv('SC SPX LONG.csv', sep=';')\n",
    "#df.head()\n",
    "\n",
    "data = []\n",
    "\n",
    "for tag in df.to_dict(orient='records'):\n",
    "    data.append({\n",
    "        'source': 'bbgPort',\n",
    "        'ticker': tag['PK'],\n",
    "        'srcDate': frDate_usDate(tag['RebalancedDate']),\n",
    "        'tag': 'SC SPX LONG'\n",
    "    })\n",
    "\n",
    "df = pd.DataFrame(data)\n",
    "#df.head()\n",
    "\n",
    "res = requests.post(\n",
    "    f'http://localhost:5000/tableau/data/tag/upload', \n",
    "    json={ 'data': df.to_dict(orient='records') }, \n",
    "    auth=HTTPBasicAuth(os.getenv('BASIC_AUTH_USERNAME'), os.getenv('BASIC_AUTH_PASSWORD'))\n",
    ")\n",
    "json.loads(res.content)"
   ]
  },
  {
   "cell_type": "code",
   "execution_count": null,
   "metadata": {},
   "outputs": [],
   "source": []
  }
 ],
 "metadata": {
  "kernelspec": {
   "display_name": "Python 3",
   "language": "python",
   "name": "python3"
  },
  "language_info": {
   "codemirror_mode": {
    "name": "ipython",
    "version": 3
   },
   "file_extension": ".py",
   "mimetype": "text/x-python",
   "name": "python",
   "nbconvert_exporter": "python",
   "pygments_lexer": "ipython3",
   "version": "3.7.3"
  }
 },
 "nbformat": 4,
 "nbformat_minor": 2
}
